{
 "cells": [
  {
   "cell_type": "code",
   "execution_count": 2,
   "metadata": {},
   "outputs": [],
   "source": [
    "import json\n",
    "import pandas as pd"
   ]
  },
  {
   "cell_type": "code",
   "execution_count": 3,
   "metadata": {},
   "outputs": [],
   "source": [
    "df = pd.read_json('../webpage-dev/data/actors.json')"
   ]
  },
  {
   "cell_type": "code",
   "execution_count": 5,
   "metadata": {},
   "outputs": [
    {
     "data": {
      "text/html": [
       "<div>\n",
       "<style scoped>\n",
       "    .dataframe tbody tr th:only-of-type {\n",
       "        vertical-align: middle;\n",
       "    }\n",
       "\n",
       "    .dataframe tbody tr th {\n",
       "        vertical-align: top;\n",
       "    }\n",
       "\n",
       "    .dataframe thead th {\n",
       "        text-align: right;\n",
       "    }\n",
       "</style>\n",
       "<table border=\"1\" class=\"dataframe\">\n",
       "  <thead>\n",
       "    <tr style=\"text-align: right;\">\n",
       "      <th></th>\n",
       "      <th>name</th>\n",
       "      <th>birthday</th>\n",
       "      <th>birthplace</th>\n",
       "      <th>headshot</th>\n",
       "      <th>films</th>\n",
       "      <th>imdb_url</th>\n",
       "      <th>coordinates</th>\n",
       "    </tr>\n",
       "  </thead>\n",
       "  <tbody>\n",
       "    <tr>\n",
       "      <th>0</th>\n",
       "      <td>Abigail Breslin</td>\n",
       "      <td>1996-04-14</td>\n",
       "      <td>New York City, New York, USA</td>\n",
       "      <td>https://m.media-amazon.com/images/M/MV5BMzU5MT...</td>\n",
       "      <td>Slayers;;Saturday at the Starlight;;Stillwater...</td>\n",
       "      <td>https://www.imdb.com/name/nm1113550/</td>\n",
       "      <td>[40.7127281, -74.0060152]</td>\n",
       "    </tr>\n",
       "    <tr>\n",
       "      <th>1</th>\n",
       "      <td>Adam Driver</td>\n",
       "      <td>1983-11-19</td>\n",
       "      <td>San Diego, California, USA</td>\n",
       "      <td>https://m.media-amazon.com/images/M/MV5BOWViYj...</td>\n",
       "      <td>65;;Gucci;;Annette;;The Last Duel;;Star Wars: ...</td>\n",
       "      <td>https://www.imdb.com/name/nm3485845/</td>\n",
       "      <td>[32.7174209, -117.1627714]</td>\n",
       "    </tr>\n",
       "    <tr>\n",
       "      <th>2</th>\n",
       "      <td>Adolph Caesar</td>\n",
       "      <td>1933-12-05</td>\n",
       "      <td>New York City, New York, USA</td>\n",
       "      <td>https://m.media-amazon.com/images/M/MV5BMTUwMj...</td>\n",
       "      <td>Silverhawks;;Club Paradise;;ABC Afterschool Sp...</td>\n",
       "      <td>https://www.imdb.com/name/nm0128360/</td>\n",
       "      <td>[40.7127281, -74.0060152]</td>\n",
       "    </tr>\n",
       "    <tr>\n",
       "      <th>3</th>\n",
       "      <td>Adolphe Menjou</td>\n",
       "      <td>1890-02-18</td>\n",
       "      <td>Pittsburgh, Pennsylvania, USA</td>\n",
       "      <td>https://m.media-amazon.com/images/M/MV5BMTg2Nz...</td>\n",
       "      <td>The DuPont Show with June Allyson;;Pollyanna;;...</td>\n",
       "      <td>https://www.imdb.com/name/nm0579663/</td>\n",
       "      <td>[40.4416941, -79.9900861]</td>\n",
       "    </tr>\n",
       "    <tr>\n",
       "      <th>4</th>\n",
       "      <td>Adriana Barraza</td>\n",
       "      <td>1956-03-05</td>\n",
       "      <td>Toluca, Estado de Mexico, Mexico</td>\n",
       "      <td>https://m.media-amazon.com/images/M/MV5BM2E4OD...</td>\n",
       "      <td>Quatremares;;Yefon;;Monica;;We Can Be Heroes;;...</td>\n",
       "      <td>https://www.imdb.com/name/nm0056770/</td>\n",
       "      <td>[19.292545, -99.6569007]</td>\n",
       "    </tr>\n",
       "  </tbody>\n",
       "</table>\n",
       "</div>"
      ],
      "text/plain": [
       "              name    birthday                        birthplace  \\\n",
       "0  Abigail Breslin  1996-04-14      New York City, New York, USA   \n",
       "1      Adam Driver  1983-11-19        San Diego, California, USA   \n",
       "2    Adolph Caesar  1933-12-05      New York City, New York, USA   \n",
       "3   Adolphe Menjou  1890-02-18     Pittsburgh, Pennsylvania, USA   \n",
       "4  Adriana Barraza  1956-03-05  Toluca, Estado de Mexico, Mexico   \n",
       "\n",
       "                                            headshot  \\\n",
       "0  https://m.media-amazon.com/images/M/MV5BMzU5MT...   \n",
       "1  https://m.media-amazon.com/images/M/MV5BOWViYj...   \n",
       "2  https://m.media-amazon.com/images/M/MV5BMTUwMj...   \n",
       "3  https://m.media-amazon.com/images/M/MV5BMTg2Nz...   \n",
       "4  https://m.media-amazon.com/images/M/MV5BM2E4OD...   \n",
       "\n",
       "                                               films  \\\n",
       "0  Slayers;;Saturday at the Starlight;;Stillwater...   \n",
       "1  65;;Gucci;;Annette;;The Last Duel;;Star Wars: ...   \n",
       "2  Silverhawks;;Club Paradise;;ABC Afterschool Sp...   \n",
       "3  The DuPont Show with June Allyson;;Pollyanna;;...   \n",
       "4  Quatremares;;Yefon;;Monica;;We Can Be Heroes;;...   \n",
       "\n",
       "                               imdb_url                 coordinates  \n",
       "0  https://www.imdb.com/name/nm1113550/   [40.7127281, -74.0060152]  \n",
       "1  https://www.imdb.com/name/nm3485845/  [32.7174209, -117.1627714]  \n",
       "2  https://www.imdb.com/name/nm0128360/   [40.7127281, -74.0060152]  \n",
       "3  https://www.imdb.com/name/nm0579663/   [40.4416941, -79.9900861]  \n",
       "4  https://www.imdb.com/name/nm0056770/    [19.292545, -99.6569007]  "
      ]
     },
     "execution_count": 5,
     "metadata": {},
     "output_type": "execute_result"
    }
   ],
   "source": [
    "df.head()"
   ]
  },
  {
   "cell_type": "code",
   "execution_count": null,
   "metadata": {},
   "outputs": [],
   "source": [
    "df.to_json(r'../webpage-dev/data/actors2.json', orient='records')"
   ]
  }
 ],
 "metadata": {
  "kernelspec": {
   "display_name": "Python 3",
   "language": "python",
   "name": "python3"
  },
  "language_info": {
   "codemirror_mode": {
    "name": "ipython",
    "version": 3
   },
   "file_extension": ".py",
   "mimetype": "text/x-python",
   "name": "python",
   "nbconvert_exporter": "python",
   "pygments_lexer": "ipython3",
   "version": "3.8.3"
  }
 },
 "nbformat": 4,
 "nbformat_minor": 4
}
