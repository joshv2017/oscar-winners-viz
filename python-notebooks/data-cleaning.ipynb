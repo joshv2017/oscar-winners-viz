{
 "cells": [
  {
   "cell_type": "markdown",
   "metadata": {},
   "source": [
    "# Data cleaning"
   ]
  },
  {
   "cell_type": "code",
   "execution_count": 1,
   "metadata": {},
   "outputs": [],
   "source": [
    "import json\n",
    "import numpy as np\n",
    "import pandas as pd\n",
    "from progressbar import ProgressBar"
   ]
  },
  {
   "cell_type": "markdown",
   "metadata": {},
   "source": [
    "This notebook allows us to reformat the data that we created in `data-creation.ipynb` so that it is JavaScript-legible and more intuitive when creating visualizations."
   ]
  },
  {
   "cell_type": "markdown",
   "metadata": {},
   "source": [
    "---\n",
    "## Network data\n",
    "Here, we would like to create a file `network_data.json` that takes the structure of the network data seen <a href=\"https://raw.githubusercontent.com/holtzy/D3-graph-gallery/master/DATA/data_network.json\">here</a>. This will allow for easy parsability when it comes to reading in the network data, facilitating the creation of our network visualization. The only difference is that we'll separate the connections by decade; so we'll only look at connections between Oscar nominees and winners in the decade that they were nominated for their Academy Awards."
   ]
  },
  {
   "cell_type": "code",
   "execution_count": 2,
   "metadata": {},
   "outputs": [
    {
     "ename": "FileNotFoundError",
     "evalue": "[Errno 2] File ../webpage-dev/data/actor_id.csv does not exist: '../webpage-dev/data/actor_id.csv'",
     "output_type": "error",
     "traceback": [
      "\u001b[0;31m---------------------------------------------------------------------------\u001b[0m",
      "\u001b[0;31mFileNotFoundError\u001b[0m                         Traceback (most recent call last)",
      "\u001b[0;32m<ipython-input-2-6c92c09d5a5e>\u001b[0m in \u001b[0;36m<module>\u001b[0;34m\u001b[0m\n\u001b[1;32m      1\u001b[0m \u001b[0;31m# read in relevant data sets\u001b[0m\u001b[0;34m\u001b[0m\u001b[0;34m\u001b[0m\u001b[0;34m\u001b[0m\u001b[0m\n\u001b[0;32m----> 2\u001b[0;31m \u001b[0mactors_to_id_df\u001b[0m \u001b[0;34m=\u001b[0m \u001b[0mpd\u001b[0m\u001b[0;34m.\u001b[0m\u001b[0mread_csv\u001b[0m\u001b[0;34m(\u001b[0m\u001b[0;34m'../webpage-dev/data/actor_id.csv'\u001b[0m\u001b[0;34m,\u001b[0m \u001b[0mindex_col\u001b[0m\u001b[0;34m=\u001b[0m\u001b[0;36m0\u001b[0m\u001b[0;34m)\u001b[0m\u001b[0;34m\u001b[0m\u001b[0;34m\u001b[0m\u001b[0m\n\u001b[0m\u001b[1;32m      3\u001b[0m \u001b[0mid_to_actors_df\u001b[0m \u001b[0;34m=\u001b[0m \u001b[0mpd\u001b[0m\u001b[0;34m.\u001b[0m\u001b[0mread_csv\u001b[0m\u001b[0;34m(\u001b[0m\u001b[0;34m'../webpage-dev/data/id_actor.csv'\u001b[0m\u001b[0;34m,\u001b[0m \u001b[0mindex_col\u001b[0m\u001b[0;34m=\u001b[0m\u001b[0;36m0\u001b[0m\u001b[0;34m)\u001b[0m\u001b[0;34m\u001b[0m\u001b[0;34m\u001b[0m\u001b[0m\n\u001b[1;32m      4\u001b[0m \u001b[0mconnections_df\u001b[0m \u001b[0;34m=\u001b[0m \u001b[0mpd\u001b[0m\u001b[0;34m.\u001b[0m\u001b[0mread_csv\u001b[0m\u001b[0;34m(\u001b[0m\u001b[0;34m'../webpage-dev/data/connections_backup.csv'\u001b[0m\u001b[0;34m,\u001b[0m \u001b[0mindex_col\u001b[0m\u001b[0;34m=\u001b[0m\u001b[0;36m0\u001b[0m\u001b[0;34m)\u001b[0m\u001b[0;34m\u001b[0m\u001b[0;34m\u001b[0m\u001b[0m\n\u001b[1;32m      5\u001b[0m \u001b[0mawards_df\u001b[0m \u001b[0;34m=\u001b[0m \u001b[0mpd\u001b[0m\u001b[0;34m.\u001b[0m\u001b[0mread_csv\u001b[0m\u001b[0;34m(\u001b[0m\u001b[0;34m'../webpage-dev/data/awards.csv'\u001b[0m\u001b[0;34m,\u001b[0m \u001b[0mindex_col\u001b[0m\u001b[0;34m=\u001b[0m\u001b[0;36m0\u001b[0m\u001b[0;34m)\u001b[0m\u001b[0;34m\u001b[0m\u001b[0;34m\u001b[0m\u001b[0m\n",
      "\u001b[0;32m~/anaconda3/lib/python3.8/site-packages/pandas/io/parsers.py\u001b[0m in \u001b[0;36mparser_f\u001b[0;34m(filepath_or_buffer, sep, delimiter, header, names, index_col, usecols, squeeze, prefix, mangle_dupe_cols, dtype, engine, converters, true_values, false_values, skipinitialspace, skiprows, skipfooter, nrows, na_values, keep_default_na, na_filter, verbose, skip_blank_lines, parse_dates, infer_datetime_format, keep_date_col, date_parser, dayfirst, cache_dates, iterator, chunksize, compression, thousands, decimal, lineterminator, quotechar, quoting, doublequote, escapechar, comment, encoding, dialect, error_bad_lines, warn_bad_lines, delim_whitespace, low_memory, memory_map, float_precision)\u001b[0m\n\u001b[1;32m    674\u001b[0m         )\n\u001b[1;32m    675\u001b[0m \u001b[0;34m\u001b[0m\u001b[0m\n\u001b[0;32m--> 676\u001b[0;31m         \u001b[0;32mreturn\u001b[0m \u001b[0m_read\u001b[0m\u001b[0;34m(\u001b[0m\u001b[0mfilepath_or_buffer\u001b[0m\u001b[0;34m,\u001b[0m \u001b[0mkwds\u001b[0m\u001b[0;34m)\u001b[0m\u001b[0;34m\u001b[0m\u001b[0;34m\u001b[0m\u001b[0m\n\u001b[0m\u001b[1;32m    677\u001b[0m \u001b[0;34m\u001b[0m\u001b[0m\n\u001b[1;32m    678\u001b[0m     \u001b[0mparser_f\u001b[0m\u001b[0;34m.\u001b[0m\u001b[0m__name__\u001b[0m \u001b[0;34m=\u001b[0m \u001b[0mname\u001b[0m\u001b[0;34m\u001b[0m\u001b[0;34m\u001b[0m\u001b[0m\n",
      "\u001b[0;32m~/anaconda3/lib/python3.8/site-packages/pandas/io/parsers.py\u001b[0m in \u001b[0;36m_read\u001b[0;34m(filepath_or_buffer, kwds)\u001b[0m\n\u001b[1;32m    446\u001b[0m \u001b[0;34m\u001b[0m\u001b[0m\n\u001b[1;32m    447\u001b[0m     \u001b[0;31m# Create the parser.\u001b[0m\u001b[0;34m\u001b[0m\u001b[0;34m\u001b[0m\u001b[0;34m\u001b[0m\u001b[0m\n\u001b[0;32m--> 448\u001b[0;31m     \u001b[0mparser\u001b[0m \u001b[0;34m=\u001b[0m \u001b[0mTextFileReader\u001b[0m\u001b[0;34m(\u001b[0m\u001b[0mfp_or_buf\u001b[0m\u001b[0;34m,\u001b[0m \u001b[0;34m**\u001b[0m\u001b[0mkwds\u001b[0m\u001b[0;34m)\u001b[0m\u001b[0;34m\u001b[0m\u001b[0;34m\u001b[0m\u001b[0m\n\u001b[0m\u001b[1;32m    449\u001b[0m \u001b[0;34m\u001b[0m\u001b[0m\n\u001b[1;32m    450\u001b[0m     \u001b[0;32mif\u001b[0m \u001b[0mchunksize\u001b[0m \u001b[0;32mor\u001b[0m \u001b[0miterator\u001b[0m\u001b[0;34m:\u001b[0m\u001b[0;34m\u001b[0m\u001b[0;34m\u001b[0m\u001b[0m\n",
      "\u001b[0;32m~/anaconda3/lib/python3.8/site-packages/pandas/io/parsers.py\u001b[0m in \u001b[0;36m__init__\u001b[0;34m(self, f, engine, **kwds)\u001b[0m\n\u001b[1;32m    878\u001b[0m             \u001b[0mself\u001b[0m\u001b[0;34m.\u001b[0m\u001b[0moptions\u001b[0m\u001b[0;34m[\u001b[0m\u001b[0;34m\"has_index_names\"\u001b[0m\u001b[0;34m]\u001b[0m \u001b[0;34m=\u001b[0m \u001b[0mkwds\u001b[0m\u001b[0;34m[\u001b[0m\u001b[0;34m\"has_index_names\"\u001b[0m\u001b[0;34m]\u001b[0m\u001b[0;34m\u001b[0m\u001b[0;34m\u001b[0m\u001b[0m\n\u001b[1;32m    879\u001b[0m \u001b[0;34m\u001b[0m\u001b[0m\n\u001b[0;32m--> 880\u001b[0;31m         \u001b[0mself\u001b[0m\u001b[0;34m.\u001b[0m\u001b[0m_make_engine\u001b[0m\u001b[0;34m(\u001b[0m\u001b[0mself\u001b[0m\u001b[0;34m.\u001b[0m\u001b[0mengine\u001b[0m\u001b[0;34m)\u001b[0m\u001b[0;34m\u001b[0m\u001b[0;34m\u001b[0m\u001b[0m\n\u001b[0m\u001b[1;32m    881\u001b[0m \u001b[0;34m\u001b[0m\u001b[0m\n\u001b[1;32m    882\u001b[0m     \u001b[0;32mdef\u001b[0m \u001b[0mclose\u001b[0m\u001b[0;34m(\u001b[0m\u001b[0mself\u001b[0m\u001b[0;34m)\u001b[0m\u001b[0;34m:\u001b[0m\u001b[0;34m\u001b[0m\u001b[0;34m\u001b[0m\u001b[0m\n",
      "\u001b[0;32m~/anaconda3/lib/python3.8/site-packages/pandas/io/parsers.py\u001b[0m in \u001b[0;36m_make_engine\u001b[0;34m(self, engine)\u001b[0m\n\u001b[1;32m   1112\u001b[0m     \u001b[0;32mdef\u001b[0m \u001b[0m_make_engine\u001b[0m\u001b[0;34m(\u001b[0m\u001b[0mself\u001b[0m\u001b[0;34m,\u001b[0m \u001b[0mengine\u001b[0m\u001b[0;34m=\u001b[0m\u001b[0;34m\"c\"\u001b[0m\u001b[0;34m)\u001b[0m\u001b[0;34m:\u001b[0m\u001b[0;34m\u001b[0m\u001b[0;34m\u001b[0m\u001b[0m\n\u001b[1;32m   1113\u001b[0m         \u001b[0;32mif\u001b[0m \u001b[0mengine\u001b[0m \u001b[0;34m==\u001b[0m \u001b[0;34m\"c\"\u001b[0m\u001b[0;34m:\u001b[0m\u001b[0;34m\u001b[0m\u001b[0;34m\u001b[0m\u001b[0m\n\u001b[0;32m-> 1114\u001b[0;31m             \u001b[0mself\u001b[0m\u001b[0;34m.\u001b[0m\u001b[0m_engine\u001b[0m \u001b[0;34m=\u001b[0m \u001b[0mCParserWrapper\u001b[0m\u001b[0;34m(\u001b[0m\u001b[0mself\u001b[0m\u001b[0;34m.\u001b[0m\u001b[0mf\u001b[0m\u001b[0;34m,\u001b[0m \u001b[0;34m**\u001b[0m\u001b[0mself\u001b[0m\u001b[0;34m.\u001b[0m\u001b[0moptions\u001b[0m\u001b[0;34m)\u001b[0m\u001b[0;34m\u001b[0m\u001b[0;34m\u001b[0m\u001b[0m\n\u001b[0m\u001b[1;32m   1115\u001b[0m         \u001b[0;32melse\u001b[0m\u001b[0;34m:\u001b[0m\u001b[0;34m\u001b[0m\u001b[0;34m\u001b[0m\u001b[0m\n\u001b[1;32m   1116\u001b[0m             \u001b[0;32mif\u001b[0m \u001b[0mengine\u001b[0m \u001b[0;34m==\u001b[0m \u001b[0;34m\"python\"\u001b[0m\u001b[0;34m:\u001b[0m\u001b[0;34m\u001b[0m\u001b[0;34m\u001b[0m\u001b[0m\n",
      "\u001b[0;32m~/anaconda3/lib/python3.8/site-packages/pandas/io/parsers.py\u001b[0m in \u001b[0;36m__init__\u001b[0;34m(self, src, **kwds)\u001b[0m\n\u001b[1;32m   1889\u001b[0m         \u001b[0mkwds\u001b[0m\u001b[0;34m[\u001b[0m\u001b[0;34m\"usecols\"\u001b[0m\u001b[0;34m]\u001b[0m \u001b[0;34m=\u001b[0m \u001b[0mself\u001b[0m\u001b[0;34m.\u001b[0m\u001b[0musecols\u001b[0m\u001b[0;34m\u001b[0m\u001b[0;34m\u001b[0m\u001b[0m\n\u001b[1;32m   1890\u001b[0m \u001b[0;34m\u001b[0m\u001b[0m\n\u001b[0;32m-> 1891\u001b[0;31m         \u001b[0mself\u001b[0m\u001b[0;34m.\u001b[0m\u001b[0m_reader\u001b[0m \u001b[0;34m=\u001b[0m \u001b[0mparsers\u001b[0m\u001b[0;34m.\u001b[0m\u001b[0mTextReader\u001b[0m\u001b[0;34m(\u001b[0m\u001b[0msrc\u001b[0m\u001b[0;34m,\u001b[0m \u001b[0;34m**\u001b[0m\u001b[0mkwds\u001b[0m\u001b[0;34m)\u001b[0m\u001b[0;34m\u001b[0m\u001b[0;34m\u001b[0m\u001b[0m\n\u001b[0m\u001b[1;32m   1892\u001b[0m         \u001b[0mself\u001b[0m\u001b[0;34m.\u001b[0m\u001b[0munnamed_cols\u001b[0m \u001b[0;34m=\u001b[0m \u001b[0mself\u001b[0m\u001b[0;34m.\u001b[0m\u001b[0m_reader\u001b[0m\u001b[0;34m.\u001b[0m\u001b[0munnamed_cols\u001b[0m\u001b[0;34m\u001b[0m\u001b[0;34m\u001b[0m\u001b[0m\n\u001b[1;32m   1893\u001b[0m \u001b[0;34m\u001b[0m\u001b[0m\n",
      "\u001b[0;32mpandas/_libs/parsers.pyx\u001b[0m in \u001b[0;36mpandas._libs.parsers.TextReader.__cinit__\u001b[0;34m()\u001b[0m\n",
      "\u001b[0;32mpandas/_libs/parsers.pyx\u001b[0m in \u001b[0;36mpandas._libs.parsers.TextReader._setup_parser_source\u001b[0;34m()\u001b[0m\n",
      "\u001b[0;31mFileNotFoundError\u001b[0m: [Errno 2] File ../webpage-dev/data/actor_id.csv does not exist: '../webpage-dev/data/actor_id.csv'"
     ]
    }
   ],
   "source": [
    "# read in relevant data sets\n",
    "actors_to_id_df = pd.read_csv('../webpage-dev/data/actor_id.csv', index_col=0)\n",
    "id_to_actors_df = pd.read_csv('../webpage-dev/data/id_actor.csv', index_col=0)\n",
    "connections_df = pd.read_csv('../webpage-dev/data/connections.csv', index_col=0)\n",
    "awards_df = pd.read_csv('../webpage-dev/data/awards.csv', index_col=0)\n",
    "\n",
    "actor_to_id = actors_to_id_df.to_dict()['id']\n",
    "id_to_actor = id_to_actors_df.to_dict()['actor']"
   ]
  },
  {
   "cell_type": "code",
   "execution_count": 72,
   "metadata": {},
   "outputs": [],
   "source": [
    "# years\n",
    "years = [1928, 1940, 1950, 1960, 1970, 1980, 1990, 2000, 2010]"
   ]
  },
  {
   "cell_type": "code",
   "execution_count": 99,
   "metadata": {},
   "outputs": [],
   "source": [
    "# init connections_by_decade\n",
    "connections_by_decade = {}\n",
    "\n",
    "# generate nodes and links for each decade\n",
    "for i in range(len(years)):\n",
    "    \n",
    "    # define year range\n",
    "    year_range = (years[i], years[i+1]) if i+1<len(years) else (years[i],2020)\n",
    "    \n",
    "    # filter by nomination years\n",
    "    decade_actors = list(set(list(awards_df.loc[(awards_df.year >= year_range[0])*(awards_df.year < year_range[1])].index)))\n",
    "    \n",
    "    # define nodes\n",
    "    decade_nodes = [{'id': actor_to_id[actor], 'name': actor} for actor in decade_actors]\n",
    "    \n",
    "    # create connections matrix\n",
    "    connections_mtx = np.array(connections_df.values, copy=True)\n",
    "    # get actor ids in decade and not in decade\n",
    "    actor_id_in_decade = [actor_to_id[actor] for actor in decade_actors]\n",
    "    set_all = set(list(range(connections_mtx.shape[0])))\n",
    "    set_in = set(actor_id_in_decade)\n",
    "    actor_id_not_in_decade = set_all.difference(set_in)\n",
    "    \n",
    "    # set actor connections not in decade to zero\n",
    "    for j in actor_id_not_in_decade:\n",
    "        for k in actor_id_not_in_decade:\n",
    "            connections_mtx[j,k] = 0\n",
    "    \n",
    "    # create sources and targets\n",
    "    sources_tot, targets_tot = np.where(~np.eye(connections_mtx.shape[0],dtype=bool)*(connections_mtx) > 0)\n",
    "    sources, targets = [], []\n",
    "    for j in range(sources_tot.shape[0]):\n",
    "        if not (sources_tot[j] in actor_id_not_in_decade or targets_tot[j] in actor_id_not_in_decade):\n",
    "            sources.append(sources_tot[j])\n",
    "            targets.append(targets_tot[j])\n",
    "            \n",
    "    decade_links = [{'source': sources[i], \n",
    "          'target': targets[i], \n",
    "          'weight': connections_mtx[sources[i], targets[i]]} for i in range(len(sources))]\n",
    "\n",
    "    # append\n",
    "    connections_by_decade[years[i]] = {'nodes': decade_nodes, 'links': decade_links}"
   ]
  },
  {
   "cell_type": "code",
   "execution_count": 100,
   "metadata": {},
   "outputs": [],
   "source": [
    "# define np encoder\n",
    "class NpEncoder(json.JSONEncoder):\n",
    "    def default(self, obj):\n",
    "        if isinstance(obj, np.integer):\n",
    "            return int(obj)\n",
    "        elif isinstance(obj, np.floating):\n",
    "            return float(obj)\n",
    "        elif isinstance(obj, np.ndarray):\n",
    "            return obj.tolist()\n",
    "        else:\n",
    "            return super(NpEncoder, self).default(obj)"
   ]
  },
  {
   "cell_type": "code",
   "execution_count": 101,
   "metadata": {},
   "outputs": [],
   "source": [
    "# write out to file\n",
    "with open('../webpage-dev/data/network_data.json', 'w') as fp:\n",
    "    json.dump(connections_by_decade, fp, cls=NpEncoder)"
   ]
  },
  {
   "cell_type": "code",
   "execution_count": 102,
   "metadata": {},
   "outputs": [
    {
     "data": {
      "text/plain": [
       "[{'id': 10, 'name': 'Alan Arkin'},\n",
       " {'id': 156, 'name': 'Christoph Waltz'},\n",
       " {'id': 270, 'name': 'Frances McDormand'},\n",
       " {'id': 107, 'name': 'Bryan Cranston'},\n",
       " {'id': 79, 'name': 'Benedict Cumberbatch'},\n",
       " {'id': 750, 'name': 'Richard E. Grant'},\n",
       " {'id': 103, 'name': 'Brie Larson'},\n",
       " {'id': 268, 'name': 'Florence Pugh'},\n",
       " {'id': 653, 'name': 'Michelle Williams'},\n",
       " {'id': 879, 'name': 'Timothée Chalamet'},\n",
       " {'id': 807, 'name': 'Sam Elliott'},\n",
       " {'id': 820, 'name': 'Scarlett Johansson'},\n",
       " {'id': 24, 'name': 'Allison Janney'},\n",
       " {'id': 484, 'name': 'Julianne Moore'},\n",
       " {'id': 497, 'name': 'Kate Winslet'},\n",
       " {'id': 196, 'name': 'Denzel Washington'},\n",
       " {'id': 933, 'name': 'Yalitza Aparicio'},\n",
       " {'id': 50, 'name': 'Annette Bening'},\n",
       " {'id': 529, 'name': 'Laurie Metcalf'},\n",
       " {'id': 736, 'name': 'Rami Malek'},\n",
       " {'id': 125, 'name': 'Casey Affleck'},\n",
       " {'id': 622, 'name': 'Matthew McConaughey'},\n",
       " {'id': 429, 'name': 'Jessica Chastain'},\n",
       " {'id': 127, 'name': 'Cate Blanchett'},\n",
       " {'id': 761, 'name': 'Robert De Niro'},\n",
       " {'id': 520, 'name': 'Lady Gaga'},\n",
       " {'id': 170, 'name': 'Colin Firth'},\n",
       " {'id': 227, 'name': 'Eddie Redmayne'},\n",
       " {'id': 388, 'name': 'James Franco'},\n",
       " {'id': 754, 'name': 'Richard Jenkins'},\n",
       " {'id': 732, 'name': 'Rachel Weisz'},\n",
       " {'id': 57, 'name': 'Antonio Banderas'},\n",
       " {'id': 53, 'name': 'Anthony Hopkins'},\n",
       " {'id': 248, 'name': 'Emma Stone'},\n",
       " {'id': 255, 'name': 'Ethan Hawke'},\n",
       " {'id': 154, 'name': 'Christian Bale'},\n",
       " {'id': 681, 'name': 'Nicole Kidman'},\n",
       " {'id': 741, 'name': 'Reese Witherspoon'},\n",
       " {'id': 599, 'name': 'Mark Ruffalo'},\n",
       " {'id': 724, 'name': 'Philip Seymour Hoffman'},\n",
       " {'id': 904, 'name': 'Viggo Mortensen'},\n",
       " {'id': 448, 'name': 'Joe Pesci'},\n",
       " {'id': 509, 'name': 'Kenneth Branagh'},\n",
       " {'id': 674, 'name': 'Naomie Harris'},\n",
       " {'id': 197, 'name': 'Dev Patel'},\n",
       " {'id': 113, 'name': 'Bérénice Bejo'},\n",
       " {'id': 600, 'name': 'Mark Rylance'},\n",
       " {'id': 798, 'name': 'Ruth Negga'},\n",
       " {'id': 687, 'name': 'Octavia Spencer'},\n",
       " {'id': 182, 'name': 'Daniel Kaluuya'},\n",
       " {'id': 688, 'name': 'Olivia Colman'},\n",
       " {'id': 427, 'name': 'Jeremy Renner'},\n",
       " {'id': 157, 'name': 'Christopher Plummer'},\n",
       " {'id': 478, 'name': 'Judi Dench'},\n",
       " {'id': 889, 'name': 'Tommy Lee Jones'},\n",
       " {'id': 46, 'name': 'Anne Hathaway'},\n",
       " {'id': 250, 'name': 'Emmanuelle Riva'},\n",
       " {'id': 742, 'name': 'Regina King'},\n",
       " {'id': 106, 'name': 'Bruce Dern'},\n",
       " {'id': 885, 'name': 'Tom Hardy'},\n",
       " {'id': 293, 'name': 'Geoffrey Rush'},\n",
       " {'id': 673, 'name': 'Naomi Watts'},\n",
       " {'id': 418, 'name': 'Jeff Bridges'},\n",
       " {'id': 181, 'name': 'Daniel Day-Lewis'},\n",
       " {'id': 787, 'name': 'Rosamund Pike'},\n",
       " {'id': 143, 'name': 'Charlotte Rampling'},\n",
       " {'id': 540, 'name': 'Leonardo DiCaprio'},\n",
       " {'id': 1, 'name': 'Adam Driver'},\n",
       " {'id': 352, 'name': 'Hugh Jackman'},\n",
       " {'id': 743, 'name': 'Renée Zellweger'},\n",
       " {'id': 312, 'name': 'Glenn Close'},\n",
       " {'id': 921, 'name': 'Willem Dafoe'},\n",
       " {'id': 620, 'name': 'Matt Damon'},\n",
       " {'id': 8, 'name': 'Al Pacino'},\n",
       " {'id': 857, 'name': 'Sylvester Stallone'},\n",
       " {'id': 375, 'name': 'Jacki Weaver'},\n",
       " {'id': 523, 'name': 'Laura Dern'},\n",
       " {'id': 455, 'name': 'John Hawkes'},\n",
       " {'id': 491, 'name': 'June Squibb'},\n",
       " {'id': 142, 'name': 'Charlize Theron'},\n",
       " {'id': 613, 'name': 'Mary J. Blige'},\n",
       " {'id': 283, 'name': 'Gary Oldman'},\n",
       " {'id': 340, 'name': 'Helen Hunt'},\n",
       " {'id': 506, 'name': 'Keira Knightley'},\n",
       " {'id': 817, 'name': 'Saoirse Ronan'},\n",
       " {'id': 30, 'name': 'Andrew Garfield'},\n",
       " {'id': 428, 'name': 'Jesse Eisenberg'},\n",
       " {'id': 342, 'name': 'Helena Bonham Carter'},\n",
       " {'id': 594, 'name': 'Marion Cotillard'},\n",
       " {'id': 265, 'name': 'Felicity Jones'},\n",
       " {'id': 785, 'name': 'Rooney Mara'},\n",
       " {'id': 95, 'name': 'Brad Pitt'},\n",
       " {'id': 412, 'name': 'Jean Dujardin'},\n",
       " {'id': 150, 'name': 'Chiwetel Ejiofor'},\n",
       " {'id': 906, 'name': 'Viola Davis'},\n",
       " {'id': 72, 'name': 'Barkhad Abdi'},\n",
       " {'id': 803, 'name': 'Sally Hawkins'},\n",
       " {'id': 884, 'name': 'Tom Hanks'},\n",
       " {'id': 845, 'name': 'Steve Carell'},\n",
       " {'id': 502, 'name': 'Kathy Bates'},\n",
       " {'id': 409, 'name': 'Javier Bardem'},\n",
       " {'id': 728, 'name': 'Quvenzhané Wallis'},\n",
       " {'id': 542, 'name': 'Lesley Manville'},\n",
       " {'id': 815, 'name': 'Sandra Bullock'},\n",
       " {'id': 566, 'name': 'Lucas Hedges'},\n",
       " {'id': 646, 'name': 'Michael Keaton'},\n",
       " {'id': 422, 'name': 'Jennifer Jason Leigh'},\n",
       " {'id': 679, 'name': 'Nick Nolte'},\n",
       " {'id': 444, 'name': 'Joaquin Phoenix'},\n",
       " {'id': 587, 'name': 'Margot Robbie'},\n",
       " {'id': 696, 'name': 'Patricia Arquette'},\n",
       " {'id': 802, 'name': 'Sally Field'},\n",
       " {'id': 650, 'name': 'Michael Shannon'},\n",
       " {'id': 328, 'name': 'Hailee Steinfeld'},\n",
       " {'id': 468, 'name': 'Jonah Hill'},\n",
       " {'id': 764, 'name': 'Robert Duvall'},\n",
       " {'id': 365, 'name': 'J.K. Simmons'},\n",
       " {'id': 577, 'name': 'Mahershala Ali'},\n",
       " {'id': 363, 'name': 'Isabelle Huppert'},\n",
       " {'id': 644, 'name': 'Michael Fassbender'},\n",
       " {'id': 25, 'name': 'Amy Adams'},\n",
       " {'id': 424, 'name': 'Jennifer Lawrence'},\n",
       " {'id': 22, 'name': 'Alicia Vikander'},\n",
       " {'id': 809, 'name': 'Sam Rockwell'},\n",
       " {'id': 675, 'name': 'Natalie Portman'},\n",
       " {'id': 593, 'name': 'Marina de Tavira'},\n",
       " {'id': 730, 'name': 'Rachel McAdams'},\n",
       " {'id': 483, 'name': 'Julia Roberts'},\n",
       " {'id': 799, 'name': 'Ryan Gosling'},\n",
       " {'id': 299, 'name': 'George Clooney'},\n",
       " {'id': 633, 'name': 'Melissa McCarthy'},\n",
       " {'id': 632, 'name': 'Melissa Leo'},\n",
       " {'id': 404, 'name': 'Janet McTeer'},\n",
       " {'id': 232, 'name': 'Edward Norton'},\n",
       " {'id': 469, 'name': 'Jonathan Pryce'},\n",
       " {'id': 932, 'name': 'Woody Harrelson'},\n",
       " {'id': 638, 'name': 'Meryl Streep'},\n",
       " {'id': 406, 'name': 'Jared Leto'},\n",
       " {'id': 625, 'name': 'Max von Sydow'},\n",
       " {'id': 174, 'name': 'Cynthia Erivo'},\n",
       " {'id': 96, 'name': 'Bradley Cooper'},\n",
       " {'id': 569, 'name': \"Lupita Nyong'o\"},\n",
       " {'id': 193, 'name': 'Demián Bichir'}]"
      ]
     },
     "execution_count": 102,
     "metadata": {},
     "output_type": "execute_result"
    }
   ],
   "source": [
    "connections_by_decade[2010]['nodes']"
   ]
  },
  {
   "cell_type": "markdown",
   "metadata": {},
   "source": [
    "---\n",
    "## Actor Data\n",
    "An unforseen bug in our birth map visualization is that a lot of actors are born in the same places and therefore have identical longitudes and latitudes. This is a problem because we can no longer click on each actor's marker to get their information from the tooltip. The purpose of this fragment of code is to add noise to the longitude and latitude data when necessary to ensure actors aren't lining up on top of one another."
   ]
  },
  {
   "cell_type": "code",
   "execution_count": 3,
   "metadata": {},
   "outputs": [],
   "source": [
    "# read in data\n",
    "actors_df = pd.read_json('../webpage-dev/data/actors.json')"
   ]
  },
  {
   "cell_type": "code",
   "execution_count": 16,
   "metadata": {},
   "outputs": [],
   "source": [
    "# get coordinates that appear more than once in the data set\n",
    "coordinates_arr = actors_df.coordinates.values\n",
    "dup_coords = set([tuple(coords) for coords in coordinates_arr if list(coordinates_arr).count(coords) > 1])"
   ]
  },
  {
   "cell_type": "code",
   "execution_count": 19,
   "metadata": {},
   "outputs": [],
   "source": [
    "# amount of noise to add (corresponds to about 5mi in either direction)\n",
    "lat_sigma = 0.09\n",
    "lon_sigma = 0.07"
   ]
  },
  {
   "cell_type": "code",
   "execution_count": 24,
   "metadata": {},
   "outputs": [],
   "source": [
    "# add noise\n",
    "noisy_coords = []\n",
    "for [lat, lon] in coordinates_arr:\n",
    "    # duplicated coordinates? add noise\n",
    "    if (lat, lon) in dup_coords:\n",
    "        lat_noise = np.random.normal(0, lat_sigma)\n",
    "        lon_noise = np.random.normal(0, lon_sigma)\n",
    "        noisy_coords.append([lat+lat_noise, lon+lon_noise])\n",
    "    else:\n",
    "        noisy_coords.append([lat, lon])"
   ]
  },
  {
   "cell_type": "code",
   "execution_count": 29,
   "metadata": {},
   "outputs": [],
   "source": [
    "# update data w/ noisy coordinates\n",
    "actors_df['coordinates'] = noisy_coords"
   ]
  },
  {
   "cell_type": "code",
   "execution_count": 28,
   "metadata": {},
   "outputs": [
    {
     "data": {
      "text/plain": [
       "935"
      ]
     },
     "execution_count": 28,
     "metadata": {},
     "output_type": "execute_result"
    }
   ],
   "source": [
    "actors_df.to_csv('../webpage-dev/data/')"
   ]
  },
  {
   "cell_type": "code",
   "execution_count": null,
   "metadata": {},
   "outputs": [],
   "source": []
  }
 ],
 "metadata": {
  "kernelspec": {
   "display_name": "Python 3",
   "language": "python",
   "name": "python3"
  },
  "language_info": {
   "codemirror_mode": {
    "name": "ipython",
    "version": 3
   },
   "file_extension": ".py",
   "mimetype": "text/x-python",
   "name": "python",
   "nbconvert_exporter": "python",
   "pygments_lexer": "ipython3",
   "version": "3.8.3"
  }
 },
 "nbformat": 4,
 "nbformat_minor": 4
}
